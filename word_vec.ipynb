{
  "nbformat": 4,
  "nbformat_minor": 0,
  "metadata": {
    "colab": {
      "name": "word_vec.ipynb",
      "provenance": [],
      "mount_file_id": "1-BNN646q9vAG-C6anpeQkMdJCSa16HlL",
      "authorship_tag": "ABX9TyPF9aCGlHn2LXZ1/STVV8Jv",
      "include_colab_link": true
    },
    "kernelspec": {
      "name": "python3",
      "display_name": "Python 3"
    },
    "language_info": {
      "name": "python"
    }
  },
  "cells": [
    {
      "cell_type": "markdown",
      "metadata": {
        "id": "view-in-github",
        "colab_type": "text"
      },
      "source": [
        "<a href=\"https://colab.research.google.com/github/sameepshrestha/Mission-Chatbot/blob/main/word_vec.ipynb\" target=\"_parent\"><img src=\"https://colab.research.google.com/assets/colab-badge.svg\" alt=\"Open In Colab\"/></a>"
      ]
    },
    {
      "cell_type": "markdown",
      "metadata": {
        "id": "YqtLS1LTnqoo"
      },
      "source": [
        "word2vec model : https://arxiv.org/pdf/1310.4546.pdf \n",
        "\n",
        "used for representing the different words as  vector capturing the context on which they are used.\n",
        "First things first let us get the total vocab of our data ,we still need a little cleaning left in our data lets do that first shall we."
      ]
    },
    {
      "cell_type": "code",
      "metadata": {
        "id": "QM7APp65S6Hh",
        "colab": {
          "base_uri": "https://localhost:8080/"
        },
        "outputId": "ca0b4d39-9f9f-4048-d803-67d4edf300e0"
      },
      "source": [
        "import pandas as pd \n",
        "import numpy as np \n",
        "import matplotlib.pyplot as plt\n",
        "%matplotlib"
      ],
      "execution_count": 4,
      "outputs": [
        {
          "output_type": "stream",
          "text": [
            "Using matplotlib backend: agg\n"
          ],
          "name": "stdout"
        }
      ]
    },
    {
      "cell_type": "code",
      "metadata": {
        "colab": {
          "base_uri": "https://localhost:8080/"
        },
        "id": "l630yOaHq-f7",
        "outputId": "5bddd884-2def-4ae3-c7bf-d68dabc9a153"
      },
      "source": [
        "from google.colab import drive\n",
        "drive.mount('/content/drive')"
      ],
      "execution_count": 1,
      "outputs": [
        {
          "output_type": "stream",
          "text": [
            "Drive already mounted at /content/drive; to attempt to forcibly remount, call drive.mount(\"/content/drive\", force_remount=True).\n"
          ],
          "name": "stdout"
        }
      ]
    },
    {
      "cell_type": "code",
      "metadata": {
        "colab": {
          "base_uri": "https://localhost:8080/",
          "height": 203
        },
        "id": "3tYRDAmAq_hm",
        "outputId": "30cf13a9-e277-49da-c1ff-335fc1b937b2"
      },
      "source": [
        "dataset = pd.read_csv('/content/drive/MyDrive/chat bots/final_dataset.csv')\n",
        "dataset.head()"
      ],
      "execution_count": 6,
      "outputs": [
        {
          "output_type": "execute_result",
          "data": {
            "text/html": [
              "<div>\n",
              "<style scoped>\n",
              "    .dataframe tbody tr th:only-of-type {\n",
              "        vertical-align: middle;\n",
              "    }\n",
              "\n",
              "    .dataframe tbody tr th {\n",
              "        vertical-align: top;\n",
              "    }\n",
              "\n",
              "    .dataframe thead th {\n",
              "        text-align: right;\n",
              "    }\n",
              "</style>\n",
              "<table border=\"1\" class=\"dataframe\">\n",
              "  <thead>\n",
              "    <tr style=\"text-align: right;\">\n",
              "      <th></th>\n",
              "      <th>From</th>\n",
              "      <th>Message</th>\n",
              "      <th>reply</th>\n",
              "    </tr>\n",
              "  </thead>\n",
              "  <tbody>\n",
              "    <tr>\n",
              "      <th>0</th>\n",
              "      <td>Puspa Rai</td>\n",
              "      <td>O ho k x hou</td>\n",
              "      <td>Thik. Xa</td>\n",
              "    </tr>\n",
              "    <tr>\n",
              "      <th>1</th>\n",
              "      <td>Dipesh Chapagain</td>\n",
              "      <td>Hi Science test tomarrow</td>\n",
              "      <td>hlo \\ni am a friend of sameep...</td>\n",
              "    </tr>\n",
              "    <tr>\n",
              "      <th>2</th>\n",
              "      <td>Spponge Bob</td>\n",
              "      <td>hhahaha sale malai k taha :D talai taha theyo ...</td>\n",
              "      <td>Ah ta aja tst ma gad</td>\n",
              "    </tr>\n",
              "    <tr>\n",
              "      <th>3</th>\n",
              "      <td>Spponge Bob</td>\n",
              "      <td>hhahahhaa k test ma pass hunxas ta :D</td>\n",
              "      <td>Xup pas ta humxu ful marks audaina bujis</td>\n",
              "    </tr>\n",
              "    <tr>\n",
              "      <th>4</th>\n",
              "      <td>Spponge Bob</td>\n",
              "      <td>hhahhaha :D :D sale maile tero wall pic hali d...</td>\n",
              "      <td>Ha kasari xange hanu pas</td>\n",
              "    </tr>\n",
              "  </tbody>\n",
              "</table>\n",
              "</div>"
            ],
            "text/plain": [
              "               From  ...                                     reply\n",
              "0         Puspa Rai  ...                                  Thik. Xa\n",
              "1  Dipesh Chapagain  ...          hlo \\ni am a friend of sameep...\n",
              "2       Spponge Bob  ...                      Ah ta aja tst ma gad\n",
              "3       Spponge Bob  ...  Xup pas ta humxu ful marks audaina bujis\n",
              "4       Spponge Bob  ...                  Ha kasari xange hanu pas\n",
              "\n",
              "[5 rows x 3 columns]"
            ]
          },
          "metadata": {
            "tags": []
          },
          "execution_count": 6
        }
      ]
    },
    {
      "cell_type": "code",
      "metadata": {
        "id": "ewWGAfsfrQWv"
      },
      "source": [
        "import re\n",
        "def remove(message):\n",
        "    pure = ''\n",
        "    for letter in message:\n",
        "        if letter in 'abcdefghijklmnopqrstuvwxyz' or letter == ' ':\n",
        "              pure = pure + letter\n",
        "    # print(pure)\n",
        "    return pure\n",
        "        \n",
        "def remove_haha(message):\n",
        "    sentence=''\n",
        "    for word in message.split():\n",
        "        if re.search('haha',word):\n",
        "            sentence = sentence+' '+ 'haha'\n",
        "        else :\n",
        "            sentence = sentence+' '+ word\n",
        "    return sentence\n",
        "def remove_and_clean(message):  \n",
        "    \n",
        "    clean_message = remove(message.lower())\n",
        "    clean_message = remove_haha(clean_message)\n",
        "    # print(clean_message)\n",
        "    return clean_message \n",
        "dataset['clean_message']= dataset.apply(lambda x : remove_and_clean(x['Message']) ,axis=1)\n",
        "dataset['clean_reply']= dataset.apply(lambda x : remove_and_clean(x['reply']) ,axis=1)"
      ],
      "execution_count": 41,
      "outputs": []
    },
    {
      "cell_type": "code",
      "metadata": {
        "colab": {
          "base_uri": "https://localhost:8080/",
          "height": 271
        },
        "id": "VAooXYCqx7EE",
        "outputId": "7dacc31e-b066-4c44-818a-8f647ceea1bc"
      },
      "source": [
        "dataset.head()"
      ],
      "execution_count": 42,
      "outputs": [
        {
          "output_type": "execute_result",
          "data": {
            "text/html": [
              "<div>\n",
              "<style scoped>\n",
              "    .dataframe tbody tr th:only-of-type {\n",
              "        vertical-align: middle;\n",
              "    }\n",
              "\n",
              "    .dataframe tbody tr th {\n",
              "        vertical-align: top;\n",
              "    }\n",
              "\n",
              "    .dataframe thead th {\n",
              "        text-align: right;\n",
              "    }\n",
              "</style>\n",
              "<table border=\"1\" class=\"dataframe\">\n",
              "  <thead>\n",
              "    <tr style=\"text-align: right;\">\n",
              "      <th></th>\n",
              "      <th>From</th>\n",
              "      <th>Message</th>\n",
              "      <th>reply</th>\n",
              "      <th>clean_message</th>\n",
              "      <th>clean_reply</th>\n",
              "    </tr>\n",
              "  </thead>\n",
              "  <tbody>\n",
              "    <tr>\n",
              "      <th>0</th>\n",
              "      <td>Puspa Rai</td>\n",
              "      <td>O ho k x hou</td>\n",
              "      <td>Thik. Xa</td>\n",
              "      <td>o ho k x hou</td>\n",
              "      <td>thik xa</td>\n",
              "    </tr>\n",
              "    <tr>\n",
              "      <th>1</th>\n",
              "      <td>Dipesh Chapagain</td>\n",
              "      <td>Hi Science test tomarrow</td>\n",
              "      <td>hlo \\ni am a friend of sameep...</td>\n",
              "      <td>hi science test tomarrow</td>\n",
              "      <td>hlo i am a friend of sameep</td>\n",
              "    </tr>\n",
              "    <tr>\n",
              "      <th>2</th>\n",
              "      <td>Spponge Bob</td>\n",
              "      <td>hhahaha sale malai k taha :D talai taha theyo ...</td>\n",
              "      <td>Ah ta aja tst ma gad</td>\n",
              "      <td>haha sale malai k taha d talai taha theyo jas...</td>\n",
              "      <td>ah ta aja tst ma gad</td>\n",
              "    </tr>\n",
              "    <tr>\n",
              "      <th>3</th>\n",
              "      <td>Spponge Bob</td>\n",
              "      <td>hhahahhaa k test ma pass hunxas ta :D</td>\n",
              "      <td>Xup pas ta humxu ful marks audaina bujis</td>\n",
              "      <td>haha k test ma pass hunxas ta d</td>\n",
              "      <td>xup pas ta humxu ful marks audaina bujis</td>\n",
              "    </tr>\n",
              "    <tr>\n",
              "      <th>4</th>\n",
              "      <td>Spponge Bob</td>\n",
              "      <td>hhahhaha :D :D sale maile tero wall pic hali d...</td>\n",
              "      <td>Ha kasari xange hanu pas</td>\n",
              "      <td>haha d d sale maile tero wall pic hali daeko ...</td>\n",
              "      <td>ha kasari xange hanu pas</td>\n",
              "    </tr>\n",
              "  </tbody>\n",
              "</table>\n",
              "</div>"
            ],
            "text/plain": [
              "               From  ...                                clean_reply\n",
              "0         Puspa Rai  ...                                    thik xa\n",
              "1  Dipesh Chapagain  ...                hlo i am a friend of sameep\n",
              "2       Spponge Bob  ...                       ah ta aja tst ma gad\n",
              "3       Spponge Bob  ...   xup pas ta humxu ful marks audaina bujis\n",
              "4       Spponge Bob  ...                   ha kasari xange hanu pas\n",
              "\n",
              "[5 rows x 5 columns]"
            ]
          },
          "metadata": {
            "tags": []
          },
          "execution_count": 42
        }
      ]
    },
    {
      "cell_type": "code",
      "metadata": {
        "id": "w1HnkC0r0GIl"
      },
      "source": [
        ""
      ],
      "execution_count": null,
      "outputs": []
    }
  ]
}