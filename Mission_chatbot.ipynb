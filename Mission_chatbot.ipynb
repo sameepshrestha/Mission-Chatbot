{
  "nbformat": 4,
  "nbformat_minor": 0,
  "metadata": {
    "colab": {
      "name": "Mission_chatbot.ipynb",
      "provenance": [],
      "collapsed_sections": [],
      "mount_file_id": "1KmFjw2qTbgywPFi1OIGI9fR5Nc1Qrvxg",
      "authorship_tag": "ABX9TyMq9EE6VauIbzVK1E5KcTtZ",
      "include_colab_link": true
    },
    "kernelspec": {
      "display_name": "Python 3",
      "name": "python3"
    },
    "language_info": {
      "name": "python"
    }
  },
  "cells": [
    {
      "cell_type": "markdown",
      "metadata": {
        "id": "view-in-github",
        "colab_type": "text"
      },
      "source": [
        "<a href=\"https://colab.research.google.com/github/sameepshrestha/Mission-Chatbot/blob/main/Mission_chatbot.ipynb\" target=\"_parent\"><img src=\"https://colab.research.google.com/assets/colab-badge.svg\" alt=\"Open In Colab\"/></a>"
      ]
    },
    {
      "cell_type": "code",
      "metadata": {
        "id": "RWbQcRG4FMkD"
      },
      "source": [
        "import numpy as np \n",
        "import pandas as pd \n",
        "import matplotlib.pyplot as plt \n",
        "import tensorflow \n",
        "from tensorflow import keras\n",
        "from keras import layers\n",
        "import json \n",
        "import re \n",
        "import os"
      ],
      "execution_count": 74,
      "outputs": []
    },
    {
      "cell_type": "code",
      "metadata": {
        "id": "4otSuaBFFfQm"
      },
      "source": [
        "# data preprocessing \n",
        "# the main part of any machine learning is the data preprocessing \n",
        "# which includes both collection of the data and transforming this data into learnable input "
      ],
      "execution_count": 4,
      "outputs": []
    },
    {
      "cell_type": "code",
      "metadata": {
        "id": "BBXbHT1wTaYo"
      },
      "source": [
        "# first we deleted all the unnesseary dataset such as images and videos as these are not the parameters that \n",
        "# are to be learned "
      ],
      "execution_count": 5,
      "outputs": []
    },
    {
      "cell_type": "code",
      "metadata": {
        "id": "oD4xlI5rGJq0"
      },
      "source": [
        "datapath ='/content/drive/MyDrive/chat bots/messages/inbox'\n",
        "\n",
        "def content_remover(contents):\n",
        "    if re.search(r'^https?:\\/\\/',contents) or contents.startswith('ð')  or contents.startswith(''):\n",
        "        return True\n",
        "def cleaner (contents):\n",
        "    contents= re.sub(r'ð','',contents)\n",
        "    return contents\n",
        "def facebook_data( datapath ):\n",
        "    t_list = []\n",
        "    count = 0 \n",
        "    c = 0\n",
        "    for direc in os.listdir(datapath):\n",
        "        for dir in os.listdir(os.path.join(datapath,direc)):\n",
        "            d_js = open(os.path.join(datapath,direc,dir))\n",
        "            data = json.load(d_js)\n",
        "            if (len(data['participants']) == 2) & (len(data['messages']) >= 4):\n",
        "                participa=[ ]\n",
        "                for name in data['participants']:\n",
        "                    # print(name)\n",
        "                    participa.append(name['name'])\n",
        "                for messages in data['messages']:\n",
        "                    if 'content' in messages.keys():\n",
        "                        if not content_remover(messages['content']):\n",
        "                            contents = cleaner(messages['content'])\n",
        "                            if (messages['sender_name'] != participa[0]) & (messages['sender_name'][0].lower()  in 'abcdefghijklmnopqrstuvwxyz'): \n",
        "                                t_list.append([participa[1],participa[0],contents,messages['timestamp_ms']])\n",
        "                            elif (messages['sender_name'] != participa[1]) & (messages['sender_name'][0].lower()  in 'abcdefghijklmnopqrstuvwxyz'):\n",
        "                                t_list.append([participa[0],participa[1],contents,messages['timestamp_ms']])\n",
        "    print(c)\n",
        "    return t_list                \n"
      ],
      "execution_count": 80,
      "outputs": []
    },
    {
      "cell_type": "markdown",
      "metadata": {
        "id": "KthgfDA6bkC6"
      },
      "source": [
        ""
      ]
    },
    {
      "cell_type": "code",
      "metadata": {
        "id": "Uy8GvbPZSzYv"
      },
      "source": [
        "t_list= facebook_data(datapath)\n",
        "print(len(t_list))\n",
        "t_list[:10]"
      ],
      "execution_count": null,
      "outputs": []
    },
    {
      "cell_type": "code",
      "metadata": {
        "id": "lTtKEH0jf3ib"
      },
      "source": [
        "data_set=pd.DataFrame(t_list,columns=['From','to','Message','timestamp_ms'])\n",
        "dataset=data_set.sort_values('timestamp_ms')"
      ],
      "execution_count": 82,
      "outputs": []
    },
    {
      "cell_type": "code",
      "metadata": {
        "id": "uk9mK8JvgbZq"
      },
      "source": [
        "data_set.to_csv (r'/content/drive/MyDrive/chat bots/export_dataframe.csv', index = False, header=True)"
      ],
      "execution_count": 83,
      "outputs": []
    },
    {
      "cell_type": "code",
      "metadata": {
        "colab": {
          "base_uri": "https://localhost:8080/"
        },
        "id": "iri08fTj5v1s",
        "outputId": "0fe96d97-2e53-400c-fb78-9cde50f664e5"
      },
      "source": [
        "import pandas as pd\n",
        "dataset = pd.read_csv(open('/content/drive/MyDrive/chat bots/export_dataframe.csv','rU'), encoding='utf-8', engine='c')"
      ],
      "execution_count": 61,
      "outputs": [
        {
          "output_type": "stream",
          "text": [
            "/usr/local/lib/python3.7/dist-packages/ipykernel_launcher.py:2: DeprecationWarning: 'U' mode is deprecated\n",
            "  \n"
          ],
          "name": "stderr"
        }
      ]
    },
    {
      "cell_type": "code",
      "metadata": {
        "id": "fgP6wVgDZDgG"
      },
      "source": [
        "friend_name = dataset['From'].unique()"
      ],
      "execution_count": 62,
      "outputs": []
    },
    {
      "cell_type": "code",
      "metadata": {
        "id": "48fhubn6Ax25",
        "colab": {
          "base_uri": "https://localhost:8080/",
          "height": 667
        },
        "outputId": "fc4c7791-4f4a-46de-8751-cf3e7827f08a"
      },
      "source": [
        "dataset =dataset.sort_values('timestamp_ms')\n",
        "dataset = dataset.reset_index(level=None,drop=True)\n",
        "dataset = dataset.dropna()\n",
        "dataset.tail(20)"
      ],
      "execution_count": 63,
      "outputs": [
        {
          "output_type": "execute_result",
          "data": {
            "text/html": [
              "<div>\n",
              "<style scoped>\n",
              "    .dataframe tbody tr th:only-of-type {\n",
              "        vertical-align: middle;\n",
              "    }\n",
              "\n",
              "    .dataframe tbody tr th {\n",
              "        vertical-align: top;\n",
              "    }\n",
              "\n",
              "    .dataframe thead th {\n",
              "        text-align: right;\n",
              "    }\n",
              "</style>\n",
              "<table border=\"1\" class=\"dataframe\">\n",
              "  <thead>\n",
              "    <tr style=\"text-align: right;\">\n",
              "      <th></th>\n",
              "      <th>From</th>\n",
              "      <th>to</th>\n",
              "      <th>Message</th>\n",
              "      <th>timestamp_ms</th>\n",
              "    </tr>\n",
              "  </thead>\n",
              "  <tbody>\n",
              "    <tr>\n",
              "      <th>149757</th>\n",
              "      <td>Narmada Dahal</td>\n",
              "      <td>Sameep Shrestha</td>\n",
              "      <td>Ani last ma chai</td>\n",
              "      <td>1.621313e+12</td>\n",
              "    </tr>\n",
              "    <tr>\n",
              "      <th>149758</th>\n",
              "      <td>Sameep Shrestha</td>\n",
              "      <td>Narmada Dahal</td>\n",
              "      <td>ah tyo chai lastai ajha sunana</td>\n",
              "      <td>1.621313e+12</td>\n",
              "    </tr>\n",
              "    <tr>\n",
              "      <th>149759</th>\n",
              "      <td>Narmada Dahal</td>\n",
              "      <td>Sameep Shrestha</td>\n",
              "      <td>Tapai jun thau ma hoisincha tei thau najik ko ...</td>\n",
              "      <td>1.621313e+12</td>\n",
              "    </tr>\n",
              "    <tr>\n",
              "      <th>149760</th>\n",
              "      <td>Sameep Shrestha</td>\n",
              "      <td>Narmada Dahal</td>\n",
              "      <td>hsptlma navako yo celebrity sanga oxygen tanke...</td>\n",
              "      <td>1.621313e+12</td>\n",
              "    </tr>\n",
              "    <tr>\n",
              "      <th>149761</th>\n",
              "      <td>Sameep Shrestha</td>\n",
              "      <td>Narmada Dahal</td>\n",
              "      <td>ma confuse vairaxu tyo chai</td>\n",
              "      <td>1.621313e+12</td>\n",
              "    </tr>\n",
              "    <tr>\n",
              "      <th>149762</th>\n",
              "      <td>Narmada Dahal</td>\n",
              "      <td>Sameep Shrestha</td>\n",
              "      <td>Hamri ma nai chað¤£</td>\n",
              "      <td>1.621313e+12</td>\n",
              "    </tr>\n",
              "    <tr>\n",
              "      <th>149763</th>\n",
              "      <td>Narmada Dahal</td>\n",
              "      <td>Sameep Shrestha</td>\n",
              "      <td>Oxygen cylinder le ama lai tyo ausi ko raat ch...</td>\n",
              "      <td>1.621313e+12</td>\n",
              "    </tr>\n",
              "    <tr>\n",
              "      <th>149764</th>\n",
              "      <td>Narmada Dahal</td>\n",
              "      <td>Sameep Shrestha</td>\n",
              "      <td>Tara 24hr duty le last garho oaryo</td>\n",
              "      <td>1.621313e+12</td>\n",
              "    </tr>\n",
              "    <tr>\n",
              "      <th>149765</th>\n",
              "      <td>Narmada Dahal</td>\n",
              "      <td>Sameep Shrestha</td>\n",
              "      <td>Buda budi ekchin mai pipe fyalne naak bata</td>\n",
              "      <td>1.621313e+12</td>\n",
              "    </tr>\n",
              "    <tr>\n",
              "      <th>149766</th>\n",
              "      <td>Narmada Dahal</td>\n",
              "      <td>Sameep Shrestha</td>\n",
              "      <td>Tharkayera hos dhamkyayera fakayera launa parne</td>\n",
              "      <td>1.621313e+12</td>\n",
              "    </tr>\n",
              "    <tr>\n",
              "      <th>149767</th>\n",
              "      <td>Narmada Dahal</td>\n",
              "      <td>Sameep Shrestha</td>\n",
              "      <td>Ama lai ni anxiety vayo hola tyo sadma le</td>\n",
              "      <td>1.621313e+12</td>\n",
              "    </tr>\n",
              "    <tr>\n",
              "      <th>149768</th>\n",
              "      <td>Narmada Dahal</td>\n",
              "      <td>Sameep Shrestha</td>\n",
              "      <td>5-6 Din baseko yar 24 hr</td>\n",
              "      <td>1.621313e+12</td>\n",
              "    </tr>\n",
              "    <tr>\n",
              "      <th>149769</th>\n",
              "      <td>Narmada Dahal</td>\n",
              "      <td>Sameep Shrestha</td>\n",
              "      <td>Afu nai recover vayeko thiyena</td>\n",
              "      <td>1.621313e+12</td>\n",
              "    </tr>\n",
              "    <tr>\n",
              "      <th>149770</th>\n",
              "      <td>Sameep Shrestha</td>\n",
              "      <td>Narmada Dahal</td>\n",
              "      <td>kakaslai lageko</td>\n",
              "      <td>1.621313e+12</td>\n",
              "    </tr>\n",
              "    <tr>\n",
              "      <th>149771</th>\n",
              "      <td>Sameep Shrestha</td>\n",
              "      <td>Narmada Dahal</td>\n",
              "      <td>oxygen fill garera rakheko ho</td>\n",
              "      <td>1.621313e+12</td>\n",
              "    </tr>\n",
              "    <tr>\n",
              "      <th>149772</th>\n",
              "      <td>Narmada Dahal</td>\n",
              "      <td>Sameep Shrestha</td>\n",
              "      <td>Day 1 duita mini cylinder</td>\n",
              "      <td>1.621313e+12</td>\n",
              "    </tr>\n",
              "    <tr>\n",
              "      <th>149773</th>\n",
              "      <td>Narmada Dahal</td>\n",
              "      <td>Sameep Shrestha</td>\n",
              "      <td>Tespachi generator</td>\n",
              "      <td>1.621313e+12</td>\n",
              "    </tr>\n",
              "    <tr>\n",
              "      <th>149774</th>\n",
              "      <td>Narmada Dahal</td>\n",
              "      <td>Sameep Shrestha</td>\n",
              "      <td>Ka balaju ma etro linee thiyo re</td>\n",
              "      <td>1.621313e+12</td>\n",
              "    </tr>\n",
              "    <tr>\n",
              "      <th>149775</th>\n",
              "      <td>Narmada Dahal</td>\n",
              "      <td>Sameep Shrestha</td>\n",
              "      <td>La ma khana gayeki</td>\n",
              "      <td>1.621313e+12</td>\n",
              "    </tr>\n",
              "    <tr>\n",
              "      <th>149776</th>\n",
              "      <td>Sameep Shrestha</td>\n",
              "      <td>Narmada Dahal</td>\n",
              "      <td>ma khadaixu haha la tata</td>\n",
              "      <td>1.621313e+12</td>\n",
              "    </tr>\n",
              "  </tbody>\n",
              "</table>\n",
              "</div>"
            ],
            "text/plain": [
              "                   From  ...  timestamp_ms\n",
              "149757    Narmada Dahal  ...  1.621313e+12\n",
              "149758  Sameep Shrestha  ...  1.621313e+12\n",
              "149759    Narmada Dahal  ...  1.621313e+12\n",
              "149760  Sameep Shrestha  ...  1.621313e+12\n",
              "149761  Sameep Shrestha  ...  1.621313e+12\n",
              "149762    Narmada Dahal  ...  1.621313e+12\n",
              "149763    Narmada Dahal  ...  1.621313e+12\n",
              "149764    Narmada Dahal  ...  1.621313e+12\n",
              "149765    Narmada Dahal  ...  1.621313e+12\n",
              "149766    Narmada Dahal  ...  1.621313e+12\n",
              "149767    Narmada Dahal  ...  1.621313e+12\n",
              "149768    Narmada Dahal  ...  1.621313e+12\n",
              "149769    Narmada Dahal  ...  1.621313e+12\n",
              "149770  Sameep Shrestha  ...  1.621313e+12\n",
              "149771  Sameep Shrestha  ...  1.621313e+12\n",
              "149772    Narmada Dahal  ...  1.621313e+12\n",
              "149773    Narmada Dahal  ...  1.621313e+12\n",
              "149774    Narmada Dahal  ...  1.621313e+12\n",
              "149775    Narmada Dahal  ...  1.621313e+12\n",
              "149776  Sameep Shrestha  ...  1.621313e+12\n",
              "\n",
              "[20 rows x 4 columns]"
            ]
          },
          "metadata": {
            "tags": []
          },
          "execution_count": 63
        }
      ]
    },
    {
      "cell_type": "markdown",
      "metadata": {
        "id": "o7pBnppFSkd4"
      },
      "source": [
        "count of messages you've received from other users"
      ]
    },
    {
      "cell_type": "code",
      "metadata": {
        "colab": {
          "base_uri": "https://localhost:8080/",
          "height": 263
        },
        "id": "zJvgpkL4BKwp",
        "outputId": "b38d6c7d-9504-40c0-8180-4efa1e826e45"
      },
      "source": [
        "ax=dataset.groupby(['From'])['Message'].count().sort_values(ascending=False)[1:21].plot(kind='bar',figsize=(20,5))\n",
        "x_labels=range(20)\n",
        "ax.set_xticklabels(x_labels)\n",
        "plt.show()\n"
      ],
      "execution_count": 139,
      "outputs": [
        {
          "output_type": "display_data",
          "data": {
            "image/png": "[encoded data removed]",
            "text/plain": [
              "<Figure size 1440x360 with 1 Axes>"
            ]
          },
          "metadata": {
            "tags": [],
            "needs_background": "light"
          }
        }
      ]
    },
    {
      "cell_type": "markdown",
      "metadata": {
        "id": "45OAMe8gSxP9"
      },
      "source": [
        "count of messages you've send to other users"
      ]
    },
    {
      "cell_type": "code",
      "metadata": {
        "colab": {
          "base_uri": "https://localhost:8080/",
          "height": 336
        },
        "id": "XL0mRLdRIWXz",
        "outputId": "da2d86ac-ff2a-47e6-bc2b-9ae3e87f9c09"
      },
      "source": [
        "ax=dataset[dataset['From']=='Sameep Shrestha'].groupby(['to'])['Message'].count().sort_values(ascending=False)[0:20].plot(kind='bar',figsize=(15,5))\n",
        "x_labels=range(20)\n",
        "ax.set_xticklabels(x_labels)\n",
        "plt.show()"
      ],
      "execution_count": 141,
      "outputs": [
        {
          "output_type": "display_data",
          "data": {
            "image/png": "[encoded data removed]",
            "text/plain": [
              "<Figure size 1080x360 with 1 Axes>"
            ]
          },
          "metadata": {
            "tags": [],
            "needs_background": "light"
          }
        }
      ]
    },
    {
      "cell_type": "code",
      "metadata": {
        "id": "Oe-OqziAbq6Y"
      },
      "source": [
        "|def combined_dataset (data):\n",
        "    result = data['From'][0]\n",
        "    result2 = data['to'][0]\n",
        "    result3 = data['Message'][0]\n",
        "    print(result)\n",
        "    new = []\n",
        "    for fro,to,messa,time in zip(data['From'][1:],data['to'][1:],data['Message'][1:],data['timestamp_ms'][1:]):\n",
        "        if (result==fro and result2 == to) :\n",
        "            result3 = result3 + ' ' +messa\n",
        "        else:\n",
        "            new.append([result,result2,result3,time])\n",
        "            print(result3)\n",
        "            result = fro\n",
        "            result2 = to \n",
        "            result3 = messa\n",
        "    return new"
      ],
      "execution_count": 5,
      "outputs": []
    },
    {
      "cell_type": "code",
      "metadata": {
        "id": "v1eJgErUjyef"
      },
      "source": [
        "\n",
        "data =combined_dataset(dataset)\n"
      ],
      "execution_count": null,
      "outputs": []
    },
    {
      "cell_type": "code",
      "metadata": {
        "id": "n0nUnFIcDN_p",
        "colab": {
          "base_uri": "https://localhost:8080/",
          "height": 358
        },
        "outputId": "c7a1d001-e4fe-495d-f97e-9b5c347a9224"
      },
      "source": [
        "clen_arranged_data = pd.DataFrame(data,columns=['From','to','Message','timestamp_ms'])\n",
        "clen_arranged_data.tail(10)"
      ],
      "execution_count": 59,
      "outputs": [
        {
          "output_type": "execute_result",
          "data": {
            "text/html": [
              "<div>\n",
              "<style scoped>\n",
              "    .dataframe tbody tr th:only-of-type {\n",
              "        vertical-align: middle;\n",
              "    }\n",
              "\n",
              "    .dataframe tbody tr th {\n",
              "        vertical-align: top;\n",
              "    }\n",
              "\n",
              "    .dataframe thead th {\n",
              "        text-align: right;\n",
              "    }\n",
              "</style>\n",
              "<table border=\"1\" class=\"dataframe\">\n",
              "  <thead>\n",
              "    <tr style=\"text-align: right;\">\n",
              "      <th></th>\n",
              "      <th>From</th>\n",
              "      <th>to</th>\n",
              "      <th>Message</th>\n",
              "      <th>timestamp_ms</th>\n",
              "    </tr>\n",
              "  </thead>\n",
              "  <tbody>\n",
              "    <tr>\n",
              "      <th>94246</th>\n",
              "      <td>Sameep Shrestha</td>\n",
              "      <td>Narmada Dahal</td>\n",
              "      <td>afnai ghar bata khedairaxan</td>\n",
              "      <td>1.621313e+12</td>\n",
              "    </tr>\n",
              "    <tr>\n",
              "      <th>94247</th>\n",
              "      <td>Narmada Dahal</td>\n",
              "      <td>Sameep Shrestha</td>\n",
              "      <td>Kasle</td>\n",
              "      <td>1.621313e+12</td>\n",
              "    </tr>\n",
              "    <tr>\n",
              "      <th>94248</th>\n",
              "      <td>Sameep Shrestha</td>\n",
              "      <td>Narmada Dahal</td>\n",
              "      <td>tyai pani supreme courtla pass gardera israel ...</td>\n",
              "      <td>1.621313e+12</td>\n",
              "    </tr>\n",
              "    <tr>\n",
              "      <th>94249</th>\n",
              "      <td>Narmada Dahal</td>\n",
              "      <td>Sameep Shrestha</td>\n",
              "      <td>Myan yo fb ma ambukance kk nunber rakherw naut...</td>\n",
              "      <td>1.621313e+12</td>\n",
              "    </tr>\n",
              "    <tr>\n",
              "      <th>94250</th>\n",
              "      <td>Sameep Shrestha</td>\n",
              "      <td>Narmada Dahal</td>\n",
              "      <td>ah tyo chai lastai ajha sunana</td>\n",
              "      <td>1.621313e+12</td>\n",
              "    </tr>\n",
              "    <tr>\n",
              "      <th>94251</th>\n",
              "      <td>Narmada Dahal</td>\n",
              "      <td>Sameep Shrestha</td>\n",
              "      <td>Tapai jun thau ma hoisincha tei thau najik ko ...</td>\n",
              "      <td>1.621313e+12</td>\n",
              "    </tr>\n",
              "    <tr>\n",
              "      <th>94252</th>\n",
              "      <td>Sameep Shrestha</td>\n",
              "      <td>Narmada Dahal</td>\n",
              "      <td>hsptlma navako yo celebrity sanga oxygen tanke...</td>\n",
              "      <td>1.621313e+12</td>\n",
              "    </tr>\n",
              "    <tr>\n",
              "      <th>94253</th>\n",
              "      <td>Narmada Dahal</td>\n",
              "      <td>Sameep Shrestha</td>\n",
              "      <td>Hamri ma nai chað¤£ Oxygen cylinder le ama la...</td>\n",
              "      <td>1.621313e+12</td>\n",
              "    </tr>\n",
              "    <tr>\n",
              "      <th>94254</th>\n",
              "      <td>Sameep Shrestha</td>\n",
              "      <td>Narmada Dahal</td>\n",
              "      <td>kakaslai lageko oxygen fill garera rakheko ho</td>\n",
              "      <td>1.621313e+12</td>\n",
              "    </tr>\n",
              "    <tr>\n",
              "      <th>94255</th>\n",
              "      <td>Narmada Dahal</td>\n",
              "      <td>Sameep Shrestha</td>\n",
              "      <td>Day 1 duita mini cylinder Tespachi generator K...</td>\n",
              "      <td>1.621313e+12</td>\n",
              "    </tr>\n",
              "  </tbody>\n",
              "</table>\n",
              "</div>"
            ],
            "text/plain": [
              "                  From  ...  timestamp_ms\n",
              "94246  Sameep Shrestha  ...  1.621313e+12\n",
              "94247    Narmada Dahal  ...  1.621313e+12\n",
              "94248  Sameep Shrestha  ...  1.621313e+12\n",
              "94249    Narmada Dahal  ...  1.621313e+12\n",
              "94250  Sameep Shrestha  ...  1.621313e+12\n",
              "94251    Narmada Dahal  ...  1.621313e+12\n",
              "94252  Sameep Shrestha  ...  1.621313e+12\n",
              "94253    Narmada Dahal  ...  1.621313e+12\n",
              "94254  Sameep Shrestha  ...  1.621313e+12\n",
              "94255    Narmada Dahal  ...  1.621313e+12\n",
              "\n",
              "[10 rows x 4 columns]"
            ]
          },
          "metadata": {
            "tags": []
          },
          "execution_count": 59
        }
      ]
    },
    {
      "cell_type": "code",
      "metadata": {
        "id": "yduDeda9gAdc"
      },
      "source": [
        "clen_arranged_data.to_csv (r'/content/drive/MyDrive/chat bots/simultaneous.csv', index = False, header=True)"
      ],
      "execution_count": 9,
      "outputs": []
    },
    {
      "cell_type": "markdown",
      "metadata": {
        "id": "KPAuBp_QpSze"
      },
      "source": [
        "what we've done so far is \n",
        "\n",
        "1.   removed links and empty messages\n",
        "2.   we've also tried to remove the emoji present \n",
        "3.   Since there are many time where A messages 3 or 4 times befor a reply so we have arranged that in the form of A-(single message) B-(single reply message) combining those three messages \n",
        "\n",
        "Things To Do \n",
        "\n",
        "\n",
        "*   make a trainable dataset with Message and reply\n",
        "\n",
        "*   create a trainable array with the message and reply for the model \n",
        "*   use word2vec model taking all the words to get the word vector \n",
        "\n",
        "\n",
        "\n"
      ]
    },
    {
      "cell_type": "code",
      "metadata": {
        "id": "MA4sCt6Xo63k"
      },
      "source": [
        "def dataset_final(data):\n",
        "    messages = []\n",
        "    requests = []\n",
        "    From =[]\n",
        "    c=0\n",
        "    for fro, to, message, time in  zip(data['From'][0:],data['to'][0:],data['Message'][0:],data['timestamp_ms'][0:]):\n",
        "        if fro !='Sameep Shrestha':\n",
        "            c = 1\n",
        "            y = fro\n",
        "            mess = message\n",
        "        elif c == 1 and to == y :\n",
        "            c = 0\n",
        "            messages.append(mess)\n",
        "            requests.append(message)\n",
        "            From.append(y)\n",
        "    return messages,requests,From\n",
        "        # else:\n",
        "        #     c=0:\n",
        "    \n",
        "    "
      ],
      "execution_count": 51,
      "outputs": []
    },
    {
      "cell_type": "code",
      "metadata": {
        "id": "NWxg6W_Q37wn"
      },
      "source": [
        "messages,reply,From = dataset_final(clen_arranged_data)"
      ],
      "execution_count": 52,
      "outputs": []
    },
    {
      "cell_type": "code",
      "metadata": {
        "colab": {
          "base_uri": "https://localhost:8080/"
        },
        "id": "Rjc5CBkd4Cng",
        "outputId": "dd245f18-b555-436b-9b79-2d3831a5d27a"
      },
      "source": [
        "len(messages), len(reply),len(From)"
      ],
      "execution_count": 53,
      "outputs": [
        {
          "output_type": "execute_result",
          "data": {
            "text/plain": [
              "(37637, 37637, 37637)"
            ]
          },
          "metadata": {
            "tags": []
          },
          "execution_count": 53
        }
      ]
    },
    {
      "cell_type": "code",
      "metadata": {
        "colab": {
          "base_uri": "https://localhost:8080/",
          "height": 203
        },
        "id": "srZN-E2l47i5",
        "outputId": "faf21dc0-f38a-446b-96a7-877348188d49"
      },
      "source": [
        " final_dataset = pd.DataFrame(data=list(zip(From,messages,reply)),columns=['From','Message','reply'])\n",
        " final_dataset.head()"
      ],
      "execution_count": 58,
      "outputs": [
        {
          "output_type": "execute_result",
          "data": {
            "text/html": [
              "<div>\n",
              "<style scoped>\n",
              "    .dataframe tbody tr th:only-of-type {\n",
              "        vertical-align: middle;\n",
              "    }\n",
              "\n",
              "    .dataframe tbody tr th {\n",
              "        vertical-align: top;\n",
              "    }\n",
              "\n",
              "    .dataframe thead th {\n",
              "        text-align: right;\n",
              "    }\n",
              "</style>\n",
              "<table border=\"1\" class=\"dataframe\">\n",
              "  <thead>\n",
              "    <tr style=\"text-align: right;\">\n",
              "      <th></th>\n",
              "      <th>From</th>\n",
              "      <th>Message</th>\n",
              "      <th>reply</th>\n",
              "    </tr>\n",
              "  </thead>\n",
              "  <tbody>\n",
              "    <tr>\n",
              "      <th>0</th>\n",
              "      <td>Puspa Rai</td>\n",
              "      <td>O ho k x hou</td>\n",
              "      <td>Thik. Xa</td>\n",
              "    </tr>\n",
              "    <tr>\n",
              "      <th>1</th>\n",
              "      <td>Dipesh Chapagain</td>\n",
              "      <td>Hi Science test tomarrow</td>\n",
              "      <td>hlo \\ni am a friend of sameep...</td>\n",
              "    </tr>\n",
              "    <tr>\n",
              "      <th>2</th>\n",
              "      <td>Spponge Bob</td>\n",
              "      <td>hhahaha sale malai k taha :D talai taha theyo ...</td>\n",
              "      <td>Ah ta aja tst ma gad</td>\n",
              "    </tr>\n",
              "    <tr>\n",
              "      <th>3</th>\n",
              "      <td>Spponge Bob</td>\n",
              "      <td>hhahahhaa k test ma pass hunxas ta :D</td>\n",
              "      <td>Xup pas ta humxu ful marks audaina bujis</td>\n",
              "    </tr>\n",
              "    <tr>\n",
              "      <th>4</th>\n",
              "      <td>Spponge Bob</td>\n",
              "      <td>hhahhaha :D :D sale maile tero wall pic hali d...</td>\n",
              "      <td>Ha kasari xange hanu pas</td>\n",
              "    </tr>\n",
              "  </tbody>\n",
              "</table>\n",
              "</div>"
            ],
            "text/plain": [
              "               From  ...                                     reply\n",
              "0         Puspa Rai  ...                                  Thik. Xa\n",
              "1  Dipesh Chapagain  ...          hlo \\ni am a friend of sameep...\n",
              "2       Spponge Bob  ...                      Ah ta aja tst ma gad\n",
              "3       Spponge Bob  ...  Xup pas ta humxu ful marks audaina bujis\n",
              "4       Spponge Bob  ...                  Ha kasari xange hanu pas\n",
              "\n",
              "[5 rows x 3 columns]"
            ]
          },
          "metadata": {
            "tags": []
          },
          "execution_count": 58
        }
      ]
    },
    {
      "cell_type": "code",
      "metadata": {
        "id": "6LmrCf71-K6P"
      },
      "source": [
        "final_dataset.to_csv (r'/content/drive/MyDrive/chat bots/final_dataset.csv', index = False, header=True)"
      ],
      "execution_count": 60,
      "outputs": []
    },
    {
      "cell_type": "code",
      "metadata": {
        "id": "L7lMzaI6_Nmd"
      },
      "source": [
        ""
      ],
      "execution_count": null,
      "outputs": []
    }
  ]
}