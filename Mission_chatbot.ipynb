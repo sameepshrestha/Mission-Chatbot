{
  "nbformat": 4,
  "nbformat_minor": 0,
  "metadata": {
    "colab": {
      "name": "Mission_chatbot.ipynb",
      "provenance": [],
      "collapsed_sections": [],
      "mount_file_id": "1KmFjw2qTbgywPFi1OIGI9fR5Nc1Qrvxg",
      "authorship_tag": "ABX9TyMDGwPfC77o6YRk52xii+9k",
      "include_colab_link": true
    },
    "kernelspec": {
      "display_name": "Python 3",
      "name": "python3"
    },
    "language_info": {
      "name": "python"
    }
  },
  "cells": [
    {
      "cell_type": "markdown",
      "metadata": {
        "id": "view-in-github",
        "colab_type": "text"
      },
      "source": [
        "<a href=\"https://colab.research.google.com/github/sameepshrestha/Mission-Chatbot/blob/main/Mission_chatbot.ipynb\" target=\"_parent\"><img src=\"https://colab.research.google.com/assets/colab-badge.svg\" alt=\"Open In Colab\"/></a>"
      ]
    },
    {
      "cell_type": "code",
      "metadata": {
        "id": "RWbQcRG4FMkD"
      },
      "source": [
        "import numpy as np \n",
        "import pandas as pd \n",
        "import matplotlib.pyplot as plt \n",
        "import tensorflow \n",
        "from tensorflow import keras\n",
        "from keras import layers\n",
        "import json \n",
        "import re \n",
        "import os"
      ],
      "execution_count": 3,
      "outputs": []
    },
    {
      "cell_type": "code",
      "metadata": {
        "id": "4otSuaBFFfQm"
      },
      "source": [
        "# data preprocessing \n",
        "# the main part of any machine learning is the data preprocessing \n",
        "# which includes both collection of the data and transforming this data into learnable input "
      ],
      "execution_count": 4,
      "outputs": []
    },
    {
      "cell_type": "code",
      "metadata": {
        "id": "BBXbHT1wTaYo"
      },
      "source": [
        "# first we deleted all the unnesseary dataset such as images and videos as these are not the parameters that \n",
        "# are to be learned "
      ],
      "execution_count": 5,
      "outputs": []
    },
    {
      "cell_type": "code",
      "metadata": {
        "id": "oD4xlI5rGJq0"
      },
      "source": [
        "datapath ='/content/drive/MyDrive/chat bots/messages/inbox'\n",
        "\n",
        "def content_remover(contents):\n",
        "    if re.search(r'^https?:\\/\\/',contents) or contents.startswith('ð')  or contents.startswith(''):\n",
        "        return True\n",
        "def cleaner (contents):\n",
        "    contents= re.sub(r'ð','',contents)\n",
        "    return contents\n",
        "def facebook_data( datapath ):\n",
        "    t_list = []\n",
        "    count = 0 \n",
        "    c = 0\n",
        "    for direc in os.listdir(datapath):\n",
        "        for dir in os.listdir(os.path.join(datapath,direc)):\n",
        "            d_js = open(os.path.join(datapath,direc,dir))\n",
        "            data = json.load(d_js)\n",
        "            if (len(data['participants']) == 2) & (len(data['messages']) >= 4):\n",
        "                participa=[ ]\n",
        "                for name in data['participants']:\n",
        "                    # print(name)\n",
        "                    participa.append(name['name'])\n",
        "                for messages in data['messages']:\n",
        "                    if 'content' in messages.keys():\n",
        "                        if not content_remover(messages['content']):\n",
        "                            contents = cleaner(messages['content'])\n",
        "                            if (messages['sender_name'] != participa[0]) & (messages['sender_name'][0].lower()  in 'abcdefghijklmnopqrstuvwxyz'): \n",
        "                                t_list.append([participa[1],participa[0],contents,messages['timestamp_ms']])\n",
        "                            elif (messages['sender_name'] != participa[1]) & (messages['sender_name'][0].lower()  in 'abcdefghijklmnopqrstuvwxyz'):\n",
        "                                t_list.append([participa[0],participa[1],contents,messages['timestamp_ms']])\n",
        "    print(c)\n",
        "    return t_list                \n"
      ],
      "execution_count": 80,
      "outputs": []
    },
    {
      "cell_type": "markdown",
      "metadata": {
        "id": "KthgfDA6bkC6"
      },
      "source": [
        ""
      ]
    },
    {
      "cell_type": "code",
      "metadata": {
        "colab": {
          "base_uri": "https://localhost:8080/"
        },
        "id": "Uy8GvbPZSzYv",
        "outputId": "5da73398-a169-4aa8-cde0-35ab89cc388d"
      },
      "source": [
        "t_list= facebook_data(datapath)\n",
        "print(len(t_list))\n",
        "t_list[:10]"
      ],
      "execution_count": 81,
      "outputs": [
        {
          "output_type": "stream",
          "text": [
            "0\n",
            "149787\n"
          ],
          "name": "stdout"
        },
        {
          "output_type": "execute_result",
          "data": {
            "text/plain": [
              "[['Vicky Sharma', 'Sameep Shrestha', 'Yes', 1446026666647],\n",
              " ['Sameep Shrestha', 'Vicky Sharma', 'vicky', 1446001902714],\n",
              " ['Sameep Shrestha',\n",
              "  'Vicky Sharma',\n",
              "  'chup kati thyo hijo ma snga xaina...\\\\',\n",
              "  1412560649856],\n",
              " ['Vicky Sharma', 'Sameep Shrestha', 'tyo sanga xaina', 1412560569458],\n",
              " ['Sameep Shrestha',\n",
              "  'Vicky Sharma',\n",
              "  'utha ja xaina ma snga madu snga mag tyo snga tanai thyo',\n",
              "  1412560547624],\n",
              " ['Vicky Sharma', 'Sameep Shrestha', 'Tyti help garde na', 1412560542685],\n",
              " ['Vicky Sharma', 'Sameep Shrestha', 'Please yar', 1412560534901],\n",
              " ['Vicky Sharma', 'Sameep Shrestha', 'Ma sanga aile xaina kya', 1412560527929],\n",
              " ['Vicky Sharma',\n",
              "  'Sameep Shrestha',\n",
              "  'Haldinxu yar biswas gar na',\n",
              "  1412560517468],\n",
              " ['Vicky Sharma', 'Sameep Shrestha', 'Ke ko ullu', 1412560507925]]"
            ]
          },
          "metadata": {
            "tags": []
          },
          "execution_count": 81
        }
      ]
    },
    {
      "cell_type": "code",
      "metadata": {
        "id": "lTtKEH0jf3ib"
      },
      "source": [
        "data_set=pd.DataFrame(t_list,columns=['From','to','Message','timestamp_ms'])\n",
        "dataset=data_set.sort_values('timestamp_ms')"
      ],
      "execution_count": 82,
      "outputs": []
    },
    {
      "cell_type": "code",
      "metadata": {
        "id": "uk9mK8JvgbZq"
      },
      "source": [
        "data_set.to_csv (r'/content/drive/MyDrive/chat bots/export_dataframe.csv', index = False, header=True)"
      ],
      "execution_count": 83,
      "outputs": []
    },
    {
      "cell_type": "code",
      "metadata": {
        "colab": {
          "base_uri": "https://localhost:8080/",
          "height": 238
        },
        "id": "iri08fTj5v1s",
        "outputId": "3feaa18d-45ba-4bc2-9c8e-bc74801ff8a3"
      },
      "source": [
        "import pandas as pd\n",
        "dataset = pd.read_csv(open('/content/drive/MyDrive/chat bots/export_dataframe.csv','rU'), encoding='utf-8', engine='c')\n",
        "dataset.head()"
      ],
      "execution_count": 84,
      "outputs": [
        {
          "output_type": "stream",
          "text": [
            "/usr/local/lib/python3.7/dist-packages/ipykernel_launcher.py:2: DeprecationWarning: 'U' mode is deprecated\n",
            "  \n"
          ],
          "name": "stderr"
        },
        {
          "output_type": "execute_result",
          "data": {
            "text/html": [
              "<div>\n",
              "<style scoped>\n",
              "    .dataframe tbody tr th:only-of-type {\n",
              "        vertical-align: middle;\n",
              "    }\n",
              "\n",
              "    .dataframe tbody tr th {\n",
              "        vertical-align: top;\n",
              "    }\n",
              "\n",
              "    .dataframe thead th {\n",
              "        text-align: right;\n",
              "    }\n",
              "</style>\n",
              "<table border=\"1\" class=\"dataframe\">\n",
              "  <thead>\n",
              "    <tr style=\"text-align: right;\">\n",
              "      <th></th>\n",
              "      <th>From</th>\n",
              "      <th>to</th>\n",
              "      <th>Message</th>\n",
              "      <th>timestamp_ms</th>\n",
              "    </tr>\n",
              "  </thead>\n",
              "  <tbody>\n",
              "    <tr>\n",
              "      <th>0</th>\n",
              "      <td>Vicky Sharma</td>\n",
              "      <td>Sameep Shrestha</td>\n",
              "      <td>Yes</td>\n",
              "      <td>1.446027e+12</td>\n",
              "    </tr>\n",
              "    <tr>\n",
              "      <th>1</th>\n",
              "      <td>Sameep Shrestha</td>\n",
              "      <td>Vicky Sharma</td>\n",
              "      <td>vicky</td>\n",
              "      <td>1.446002e+12</td>\n",
              "    </tr>\n",
              "    <tr>\n",
              "      <th>2</th>\n",
              "      <td>Sameep Shrestha</td>\n",
              "      <td>Vicky Sharma</td>\n",
              "      <td>chup kati thyo hijo ma snga xaina...\\</td>\n",
              "      <td>1.412561e+12</td>\n",
              "    </tr>\n",
              "    <tr>\n",
              "      <th>3</th>\n",
              "      <td>Vicky Sharma</td>\n",
              "      <td>Sameep Shrestha</td>\n",
              "      <td>tyo sanga xaina</td>\n",
              "      <td>1.412561e+12</td>\n",
              "    </tr>\n",
              "    <tr>\n",
              "      <th>4</th>\n",
              "      <td>Sameep Shrestha</td>\n",
              "      <td>Vicky Sharma</td>\n",
              "      <td>utha ja xaina ma snga madu snga mag tyo snga t...</td>\n",
              "      <td>1.412561e+12</td>\n",
              "    </tr>\n",
              "  </tbody>\n",
              "</table>\n",
              "</div>"
            ],
            "text/plain": [
              "              From  ...  timestamp_ms\n",
              "0     Vicky Sharma  ...  1.446027e+12\n",
              "1  Sameep Shrestha  ...  1.446002e+12\n",
              "2  Sameep Shrestha  ...  1.412561e+12\n",
              "3     Vicky Sharma  ...  1.412561e+12\n",
              "4  Sameep Shrestha  ...  1.412561e+12\n",
              "\n",
              "[5 rows x 4 columns]"
            ]
          },
          "metadata": {
            "tags": []
          },
          "execution_count": 84
        }
      ]
    },
    {
      "cell_type": "code",
      "metadata": {
        "id": "fgP6wVgDZDgG"
      },
      "source": [
        "friend_name = dataset['From'].unique()"
      ],
      "execution_count": 85,
      "outputs": []
    },
    {
      "cell_type": "code",
      "metadata": {
        "id": "48fhubn6Ax25",
        "colab": {
          "base_uri": "https://localhost:8080/",
          "height": 417
        },
        "outputId": "b0eab83a-4eeb-4faf-e765-ba642cd2e5de"
      },
      "source": [
        "dataset =dataset.sort_values('timestamp_ms')\n",
        "dataset = dataset.reset_index(level=None,drop=True)\n",
        "dataset = dataset.dropna()\n",
        "dataset.tail(100)"
      ],
      "execution_count": 86,
      "outputs": [
        {
          "output_type": "execute_result",
          "data": {
            "text/html": [
              "<div>\n",
              "<style scoped>\n",
              "    .dataframe tbody tr th:only-of-type {\n",
              "        vertical-align: middle;\n",
              "    }\n",
              "\n",
              "    .dataframe tbody tr th {\n",
              "        vertical-align: top;\n",
              "    }\n",
              "\n",
              "    .dataframe thead th {\n",
              "        text-align: right;\n",
              "    }\n",
              "</style>\n",
              "<table border=\"1\" class=\"dataframe\">\n",
              "  <thead>\n",
              "    <tr style=\"text-align: right;\">\n",
              "      <th></th>\n",
              "      <th>From</th>\n",
              "      <th>to</th>\n",
              "      <th>Message</th>\n",
              "      <th>timestamp_ms</th>\n",
              "    </tr>\n",
              "  </thead>\n",
              "  <tbody>\n",
              "    <tr>\n",
              "      <th>149677</th>\n",
              "      <td>Narmada Dahal</td>\n",
              "      <td>Sameep Shrestha</td>\n",
              "      <td>Bihe vayeki behula biteko tha payau?</td>\n",
              "      <td>1.621312e+12</td>\n",
              "    </tr>\n",
              "    <tr>\n",
              "      <th>149678</th>\n",
              "      <td>Sameep Shrestha</td>\n",
              "      <td>Narmada Dahal</td>\n",
              "      <td>momla matra vaccine launa maneko raina raicha ...</td>\n",
              "      <td>1.621312e+12</td>\n",
              "    </tr>\n",
              "    <tr>\n",
              "      <th>149679</th>\n",
              "      <td>Narmada Dahal</td>\n",
              "      <td>Sameep Shrestha</td>\n",
              "      <td>astiii nai mama ko bihe vanthiyau hai</td>\n",
              "      <td>1.621312e+12</td>\n",
              "    </tr>\n",
              "    <tr>\n",
              "      <th>149680</th>\n",
              "      <td>Sameep Shrestha</td>\n",
              "      <td>Narmada Dahal</td>\n",
              "      <td>aha</td>\n",
              "      <td>1.621312e+12</td>\n",
              "    </tr>\n",
              "    <tr>\n",
              "      <th>149681</th>\n",
              "      <td>Narmada Dahal</td>\n",
              "      <td>Sameep Shrestha</td>\n",
              "      <td>Baisakh 15 ma bihe</td>\n",
              "      <td>1.621312e+12</td>\n",
              "    </tr>\n",
              "    <tr>\n",
              "      <th>...</th>\n",
              "      <td>...</td>\n",
              "      <td>...</td>\n",
              "      <td>...</td>\n",
              "      <td>...</td>\n",
              "    </tr>\n",
              "    <tr>\n",
              "      <th>149772</th>\n",
              "      <td>Narmada Dahal</td>\n",
              "      <td>Sameep Shrestha</td>\n",
              "      <td>Day 1 duita mini cylinder</td>\n",
              "      <td>1.621313e+12</td>\n",
              "    </tr>\n",
              "    <tr>\n",
              "      <th>149773</th>\n",
              "      <td>Narmada Dahal</td>\n",
              "      <td>Sameep Shrestha</td>\n",
              "      <td>Tespachi generator</td>\n",
              "      <td>1.621313e+12</td>\n",
              "    </tr>\n",
              "    <tr>\n",
              "      <th>149774</th>\n",
              "      <td>Narmada Dahal</td>\n",
              "      <td>Sameep Shrestha</td>\n",
              "      <td>Ka balaju ma etro linee thiyo re</td>\n",
              "      <td>1.621313e+12</td>\n",
              "    </tr>\n",
              "    <tr>\n",
              "      <th>149775</th>\n",
              "      <td>Narmada Dahal</td>\n",
              "      <td>Sameep Shrestha</td>\n",
              "      <td>La ma khana gayeki</td>\n",
              "      <td>1.621313e+12</td>\n",
              "    </tr>\n",
              "    <tr>\n",
              "      <th>149776</th>\n",
              "      <td>Sameep Shrestha</td>\n",
              "      <td>Narmada Dahal</td>\n",
              "      <td>ma khadaixu haha la tata</td>\n",
              "      <td>1.621313e+12</td>\n",
              "    </tr>\n",
              "  </tbody>\n",
              "</table>\n",
              "<p>100 rows × 4 columns</p>\n",
              "</div>"
            ],
            "text/plain": [
              "                   From  ...  timestamp_ms\n",
              "149677    Narmada Dahal  ...  1.621312e+12\n",
              "149678  Sameep Shrestha  ...  1.621312e+12\n",
              "149679    Narmada Dahal  ...  1.621312e+12\n",
              "149680  Sameep Shrestha  ...  1.621312e+12\n",
              "149681    Narmada Dahal  ...  1.621312e+12\n",
              "...                 ...  ...           ...\n",
              "149772    Narmada Dahal  ...  1.621313e+12\n",
              "149773    Narmada Dahal  ...  1.621313e+12\n",
              "149774    Narmada Dahal  ...  1.621313e+12\n",
              "149775    Narmada Dahal  ...  1.621313e+12\n",
              "149776  Sameep Shrestha  ...  1.621313e+12\n",
              "\n",
              "[100 rows x 4 columns]"
            ]
          },
          "metadata": {
            "tags": []
          },
          "execution_count": 86
        }
      ]
    },
    {
      "cell_type": "code",
      "metadata": {
        "id": "Oe-OqziAbq6Y"
      },
      "source": [
        "def combined_dataset (data):\n",
        "    result = data['From'][0]\n",
        "    result2 = data['to'][0]\n",
        "    result3 = data['Message'][0]\n",
        "    print(result)\n",
        "    new = []\n",
        "    for fro,to,messa,time in zip(data['From'][1:],data['to'][1:],data['Message'][1:],data['timestamp_ms'][1:]):\n",
        "        if (result==fro and result2 == to) :\n",
        "            result3 = result3 + ' ' +messa\n",
        "        else:\n",
        "            new.append([result,result2,result3,time])\n",
        "            print(result3)\n",
        "            result = fro\n",
        "            result2 = to \n",
        "            result3 = messa\n",
        "    return new"
      ],
      "execution_count": 87,
      "outputs": []
    },
    {
      "cell_type": "code",
      "metadata": {
        "id": "v1eJgErUjyef"
      },
      "source": [
        "\n",
        "data =combined_dataset(dataset)\n"
      ],
      "execution_count": null,
      "outputs": []
    },
    {
      "cell_type": "code",
      "metadata": {
        "id": "aEmooLqW_E1a"
      },
      "source": [
        "data[-25:]"
      ],
      "execution_count": null,
      "outputs": []
    },
    {
      "cell_type": "code",
      "metadata": {
        "id": "n0nUnFIcDN_p",
        "colab": {
          "base_uri": "https://localhost:8080/",
          "height": 667
        },
        "outputId": "b480f7ae-56dc-426a-8d2a-56374f4f592e"
      },
      "source": [
        "clen_arranged_data = pd.DataFrame(data,columns=['From','to','Message','timestamp_ms'])\n",
        "clen_arranged_data.head(20)"
      ],
      "execution_count": 91,
      "outputs": [
        {
          "output_type": "execute_result",
          "data": {
            "text/html": [
              "<div>\n",
              "<style scoped>\n",
              "    .dataframe tbody tr th:only-of-type {\n",
              "        vertical-align: middle;\n",
              "    }\n",
              "\n",
              "    .dataframe tbody tr th {\n",
              "        vertical-align: top;\n",
              "    }\n",
              "\n",
              "    .dataframe thead th {\n",
              "        text-align: right;\n",
              "    }\n",
              "</style>\n",
              "<table border=\"1\" class=\"dataframe\">\n",
              "  <thead>\n",
              "    <tr style=\"text-align: right;\">\n",
              "      <th></th>\n",
              "      <th>From</th>\n",
              "      <th>to</th>\n",
              "      <th>Message</th>\n",
              "      <th>timestamp_ms</th>\n",
              "    </tr>\n",
              "  </thead>\n",
              "  <tbody>\n",
              "    <tr>\n",
              "      <th>0</th>\n",
              "      <td>Puspa Rai</td>\n",
              "      <td>Sameep Shrestha</td>\n",
              "      <td>O ho k x hou</td>\n",
              "      <td>1.373896e+12</td>\n",
              "    </tr>\n",
              "    <tr>\n",
              "      <th>1</th>\n",
              "      <td>Sameep Shrestha</td>\n",
              "      <td>Puspa Rai</td>\n",
              "      <td>Thik. Xa</td>\n",
              "      <td>1.373896e+12</td>\n",
              "    </tr>\n",
              "    <tr>\n",
              "      <th>2</th>\n",
              "      <td>Puspa Rai</td>\n",
              "      <td>Sameep Shrestha</td>\n",
              "      <td>Ok</td>\n",
              "      <td>1.373982e+12</td>\n",
              "    </tr>\n",
              "    <tr>\n",
              "      <th>3</th>\n",
              "      <td>Sameep Shrestha</td>\n",
              "      <td>Kritisha Khadka</td>\n",
              "      <td>Khadka ma ghar pugna pako xaina on bhais</td>\n",
              "      <td>1.373986e+12</td>\n",
              "    </tr>\n",
              "    <tr>\n",
              "      <th>4</th>\n",
              "      <td>Kritisha Khadka</td>\n",
              "      <td>Sameep Shrestha</td>\n",
              "      <td>Chup hatti</td>\n",
              "      <td>1.374197e+12</td>\n",
              "    </tr>\n",
              "    <tr>\n",
              "      <th>5</th>\n",
              "      <td>Sameep Shrestha</td>\n",
              "      <td>Dipesh Chapagain</td>\n",
              "      <td>Sr pawan ko frn request acept garnu hare Hapy ...</td>\n",
              "      <td>1.374298e+12</td>\n",
              "    </tr>\n",
              "    <tr>\n",
              "      <th>6</th>\n",
              "      <td>Sameep Shrestha</td>\n",
              "      <td>SudAn Budhathoki</td>\n",
              "      <td>Oho sudan bhai sudipa ka xa</td>\n",
              "      <td>1.374596e+12</td>\n",
              "    </tr>\n",
              "    <tr>\n",
              "      <th>7</th>\n",
              "      <td>Dipesh Chapagain</td>\n",
              "      <td>Sameep Shrestha</td>\n",
              "      <td>Hi Science test tomarrow</td>\n",
              "      <td>1.374596e+12</td>\n",
              "    </tr>\n",
              "    <tr>\n",
              "      <th>8</th>\n",
              "      <td>Sameep Shrestha</td>\n",
              "      <td>Dipesh Chapagain</td>\n",
              "      <td>hlo \\ni am a friend of sameep...</td>\n",
              "      <td>1.374675e+12</td>\n",
              "    </tr>\n",
              "    <tr>\n",
              "      <th>9</th>\n",
              "      <td>Sameep Shrestha</td>\n",
              "      <td>Spponge Bob</td>\n",
              "      <td>Oe sale malai tst xa hare bhana sakdai na this</td>\n",
              "      <td>1.374675e+12</td>\n",
              "    </tr>\n",
              "    <tr>\n",
              "      <th>10</th>\n",
              "      <td>Spponge Bob</td>\n",
              "      <td>Sameep Shrestha</td>\n",
              "      <td>hhahaha sale malai k taha :D talai taha theyo ...</td>\n",
              "      <td>1.374675e+12</td>\n",
              "    </tr>\n",
              "    <tr>\n",
              "      <th>11</th>\n",
              "      <td>Sameep Shrestha</td>\n",
              "      <td>Spponge Bob</td>\n",
              "      <td>Ah ta aja tst ma gad</td>\n",
              "      <td>1.374675e+12</td>\n",
              "    </tr>\n",
              "    <tr>\n",
              "      <th>12</th>\n",
              "      <td>Spponge Bob</td>\n",
              "      <td>Sameep Shrestha</td>\n",
              "      <td>hhahahhaa k test ma pass hunxas ta :D</td>\n",
              "      <td>1.374676e+12</td>\n",
              "    </tr>\n",
              "    <tr>\n",
              "      <th>13</th>\n",
              "      <td>Sameep Shrestha</td>\n",
              "      <td>Spponge Bob</td>\n",
              "      <td>Xup pas ta humxu ful marks audaina bujis</td>\n",
              "      <td>1.374676e+12</td>\n",
              "    </tr>\n",
              "    <tr>\n",
              "      <th>14</th>\n",
              "      <td>Spponge Bob</td>\n",
              "      <td>Sameep Shrestha</td>\n",
              "      <td>hhahhaha :D :D sale maile tero wall pic hali d...</td>\n",
              "      <td>1.374676e+12</td>\n",
              "    </tr>\n",
              "    <tr>\n",
              "      <th>15</th>\n",
              "      <td>Sameep Shrestha</td>\n",
              "      <td>Spponge Bob</td>\n",
              "      <td>Ha kasari xange hanu pas</td>\n",
              "      <td>1.374676e+12</td>\n",
              "    </tr>\n",
              "    <tr>\n",
              "      <th>16</th>\n",
              "      <td>Spponge Bob</td>\n",
              "      <td>Sameep Shrestha</td>\n",
              "      <td>ma garidium ;) talai password aile vhanxu...ch...</td>\n",
              "      <td>1.374676e+12</td>\n",
              "    </tr>\n",
              "    <tr>\n",
              "      <th>17</th>\n",
              "      <td>Sameep Shrestha</td>\n",
              "      <td>Spponge Bob</td>\n",
              "      <td>Bholi aijana lap bata xange hanu parxa</td>\n",
              "      <td>1.374676e+12</td>\n",
              "    </tr>\n",
              "    <tr>\n",
              "      <th>18</th>\n",
              "      <td>Spponge Bob</td>\n",
              "      <td>Sameep Shrestha</td>\n",
              "      <td>(Y) la la sale alik ramro photo haru ta haal g...</td>\n",
              "      <td>1.374676e+12</td>\n",
              "    </tr>\n",
              "    <tr>\n",
              "      <th>19</th>\n",
              "      <td>Sameep Shrestha</td>\n",
              "      <td>Spponge Bob</td>\n",
              "      <td>Xup</td>\n",
              "      <td>1.374676e+12</td>\n",
              "    </tr>\n",
              "  </tbody>\n",
              "</table>\n",
              "</div>"
            ],
            "text/plain": [
              "                From  ...  timestamp_ms\n",
              "0          Puspa Rai  ...  1.373896e+12\n",
              "1    Sameep Shrestha  ...  1.373896e+12\n",
              "2          Puspa Rai  ...  1.373982e+12\n",
              "3    Sameep Shrestha  ...  1.373986e+12\n",
              "4    Kritisha Khadka  ...  1.374197e+12\n",
              "5    Sameep Shrestha  ...  1.374298e+12\n",
              "6    Sameep Shrestha  ...  1.374596e+12\n",
              "7   Dipesh Chapagain  ...  1.374596e+12\n",
              "8    Sameep Shrestha  ...  1.374675e+12\n",
              "9    Sameep Shrestha  ...  1.374675e+12\n",
              "10       Spponge Bob  ...  1.374675e+12\n",
              "11   Sameep Shrestha  ...  1.374675e+12\n",
              "12       Spponge Bob  ...  1.374676e+12\n",
              "13   Sameep Shrestha  ...  1.374676e+12\n",
              "14       Spponge Bob  ...  1.374676e+12\n",
              "15   Sameep Shrestha  ...  1.374676e+12\n",
              "16       Spponge Bob  ...  1.374676e+12\n",
              "17   Sameep Shrestha  ...  1.374676e+12\n",
              "18       Spponge Bob  ...  1.374676e+12\n",
              "19   Sameep Shrestha  ...  1.374676e+12\n",
              "\n",
              "[20 rows x 4 columns]"
            ]
          },
          "metadata": {
            "tags": []
          },
          "execution_count": 91
        }
      ]
    },
    {
      "cell_type": "code",
      "metadata": {
        "id": "yduDeda9gAdc"
      },
      "source": [
        ""
      ],
      "execution_count": null,
      "outputs": []
    }
  ]
}