{
  "nbformat": 4,
  "nbformat_minor": 0,
  "metadata": {
    "colab": {
      "name": "Mission_chatbot.ipynb",
      "provenance": [],
      "collapsed_sections": [],
      "mount_file_id": "1KmFjw2qTbgywPFi1OIGI9fR5Nc1Qrvxg",
      "authorship_tag": "ABX9TyMdWpF8/XWi0ExiBoYU0f5X",
      "include_colab_link": true
    },
    "kernelspec": {
      "display_name": "Python 3",
      "name": "python3"
    },
    "language_info": {
      "name": "python"
    }
  },
  "cells": [
    {
      "cell_type": "markdown",
      "metadata": {
        "id": "view-in-github",
        "colab_type": "text"
      },
      "source": [
        "<a href=\"https://colab.research.google.com/github/sameepshrestha/Mission-Chatbot/blob/main/Mission_chatbot.ipynb\" target=\"_parent\"><img src=\"https://colab.research.google.com/assets/colab-badge.svg\" alt=\"Open In Colab\"/></a>"
      ]
    },
    {
      "cell_type": "code",
      "metadata": {
        "id": "RWbQcRG4FMkD"
      },
      "source": [
        "import numpy as np \n",
        "import pandas as pd \n",
        "import matplotlib.pyplot as plt \n",
        "import tensorflow \n",
        "from tensorflow import keras\n",
        "from keras import layers\n",
        "import json \n",
        "import re \n",
        "import os"
      ],
      "execution_count": 3,
      "outputs": []
    },
    {
      "cell_type": "code",
      "metadata": {
        "id": "4otSuaBFFfQm"
      },
      "source": [
        "# data preprocessing \n",
        "# the main part of any machine learning is the data preprocessing \n",
        "# which includes both collection of the data and transforming this data into learnable input "
      ],
      "execution_count": 4,
      "outputs": []
    },
    {
      "cell_type": "code",
      "metadata": {
        "id": "BBXbHT1wTaYo"
      },
      "source": [
        "# first we deleted all the unnesseary dataset such as images and videos as these are not the parameters that \n",
        "# are to be learned "
      ],
      "execution_count": 5,
      "outputs": []
    },
    {
      "cell_type": "code",
      "metadata": {
        "id": "oD4xlI5rGJq0"
      },
      "source": [
        "datapath ='/content/drive/MyDrive/chat bots/messages/inbox'\n",
        "\n",
        "def content_remover(contents):\n",
        "    if re.search(r'^https?:\\/\\/',contents) or contents.startswith('ð')  or contents.startswith(''):\n",
        "        return True\n",
        "def cleaner (contents):\n",
        "    contents= re.sub(r'ð','',contents)\n",
        "    return contents\n",
        "def facebook_data( datapath ):\n",
        "    t_list = []\n",
        "    count = 0 \n",
        "    c = 0\n",
        "    for direc in os.listdir(datapath):\n",
        "        for dir in os.listdir(os.path.join(datapath,direc)):\n",
        "            d_js = open(os.path.join(datapath,direc,dir))\n",
        "            data = json.load(d_js)\n",
        "            if (len(data['participants']) == 2) & (len(data['messages']) >= 4):\n",
        "                participa=[ ]\n",
        "                for name in data['participants']:\n",
        "                    # print(name)\n",
        "                    participa.append(name['name'])\n",
        "                for messages in data['messages']:\n",
        "                    if 'content' in messages.keys():\n",
        "                        if not content_remover(messages['content']):\n",
        "                            contents = cleaner(messages['content'])\n",
        "                            if (messages['sender_name'] != participa[0]) & (messages['sender_name'][0].lower()  in 'abcdefghijklmnopqrstuvwxyz'): \n",
        "                                t_list.append([participa[1],participa[0],contents,messages['timestamp_ms']])\n",
        "                            elif (messages['sender_name'] != participa[1]) & (messages['sender_name'][0].lower()  in 'abcdefghijklmnopqrstuvwxyz'):\n",
        "                                t_list.append([participa[0],participa[1],contents,messages['timestamp_ms']])\n",
        "    print(c)\n",
        "    return t_list                \n"
      ],
      "execution_count": 80,
      "outputs": []
    },
    {
      "cell_type": "markdown",
      "metadata": {
        "id": "KthgfDA6bkC6"
      },
      "source": [
        ""
      ]
    },
    {
      "cell_type": "code",
      "metadata": {
        "id": "Uy8GvbPZSzYv"
      },
      "source": [
        "t_list= facebook_data(datapath)\n",
        "print(len(t_list))\n",
        "t_list[:10]"
      ],
      "execution_count": null,
      "outputs": []
    },
    {
      "cell_type": "code",
      "metadata": {
        "id": "lTtKEH0jf3ib"
      },
      "source": [
        "data_set=pd.DataFrame(t_list,columns=['From','to','Message','timestamp_ms'])\n",
        "dataset=data_set.sort_values('timestamp_ms')"
      ],
      "execution_count": 82,
      "outputs": []
    },
    {
      "cell_type": "code",
      "metadata": {
        "id": "uk9mK8JvgbZq"
      },
      "source": [
        "data_set.to_csv (r'/content/drive/MyDrive/chat bots/export_dataframe.csv', index = False, header=True)"
      ],
      "execution_count": 83,
      "outputs": []
    },
    {
      "cell_type": "code",
      "metadata": {
        "colab": {
          "base_uri": "https://localhost:8080/"
        },
        "id": "iri08fTj5v1s",
        "outputId": "0c8d9601-aea3-4f0d-fab7-a05ae58c4294"
      },
      "source": [
        "import pandas as pd\n",
        "dataset = pd.read_csv(open('/content/drive/MyDrive/chat bots/export_dataframe.csv','rU'), encoding='utf-8', engine='c')"
      ],
      "execution_count": 2,
      "outputs": [
        {
          "output_type": "stream",
          "text": [
            "/usr/local/lib/python3.7/dist-packages/ipykernel_launcher.py:2: DeprecationWarning: 'U' mode is deprecated\n",
            "  \n"
          ],
          "name": "stderr"
        }
      ]
    },
    {
      "cell_type": "code",
      "metadata": {
        "id": "fgP6wVgDZDgG"
      },
      "source": [
        "friend_name = dataset['From'].unique()"
      ],
      "execution_count": 3,
      "outputs": []
    },
    {
      "cell_type": "code",
      "metadata": {
        "id": "48fhubn6Ax25",
        "colab": {
          "base_uri": "https://localhost:8080/",
          "height": 667
        },
        "outputId": "e735477b-567f-4e9a-c56e-e0dc2fef0f70"
      },
      "source": [
        "dataset =dataset.sort_values('timestamp_ms')\n",
        "dataset = dataset.reset_index(level=None,drop=True)\n",
        "dataset = dataset.dropna()\n",
        "dataset.tail(20)"
      ],
      "execution_count": 4,
      "outputs": [
        {
          "output_type": "execute_result",
          "data": {
            "text/html": [
              "<div>\n",
              "<style scoped>\n",
              "    .dataframe tbody tr th:only-of-type {\n",
              "        vertical-align: middle;\n",
              "    }\n",
              "\n",
              "    .dataframe tbody tr th {\n",
              "        vertical-align: top;\n",
              "    }\n",
              "\n",
              "    .dataframe thead th {\n",
              "        text-align: right;\n",
              "    }\n",
              "</style>\n",
              "<table border=\"1\" class=\"dataframe\">\n",
              "  <thead>\n",
              "    <tr style=\"text-align: right;\">\n",
              "      <th></th>\n",
              "      <th>From</th>\n",
              "      <th>to</th>\n",
              "      <th>Message</th>\n",
              "      <th>timestamp_ms</th>\n",
              "    </tr>\n",
              "  </thead>\n",
              "  <tbody>\n",
              "    <tr>\n",
              "      <th>149757</th>\n",
              "      <td>Narmada Dahal</td>\n",
              "      <td>Sameep Shrestha</td>\n",
              "      <td>Ani last ma chai</td>\n",
              "      <td>1.621313e+12</td>\n",
              "    </tr>\n",
              "    <tr>\n",
              "      <th>149758</th>\n",
              "      <td>Sameep Shrestha</td>\n",
              "      <td>Narmada Dahal</td>\n",
              "      <td>ah tyo chai lastai ajha sunana</td>\n",
              "      <td>1.621313e+12</td>\n",
              "    </tr>\n",
              "    <tr>\n",
              "      <th>149759</th>\n",
              "      <td>Narmada Dahal</td>\n",
              "      <td>Sameep Shrestha</td>\n",
              "      <td>Tapai jun thau ma hoisincha tei thau najik ko ...</td>\n",
              "      <td>1.621313e+12</td>\n",
              "    </tr>\n",
              "    <tr>\n",
              "      <th>149760</th>\n",
              "      <td>Sameep Shrestha</td>\n",
              "      <td>Narmada Dahal</td>\n",
              "      <td>hsptlma navako yo celebrity sanga oxygen tanke...</td>\n",
              "      <td>1.621313e+12</td>\n",
              "    </tr>\n",
              "    <tr>\n",
              "      <th>149761</th>\n",
              "      <td>Sameep Shrestha</td>\n",
              "      <td>Narmada Dahal</td>\n",
              "      <td>ma confuse vairaxu tyo chai</td>\n",
              "      <td>1.621313e+12</td>\n",
              "    </tr>\n",
              "    <tr>\n",
              "      <th>149762</th>\n",
              "      <td>Narmada Dahal</td>\n",
              "      <td>Sameep Shrestha</td>\n",
              "      <td>Hamri ma nai chað¤£</td>\n",
              "      <td>1.621313e+12</td>\n",
              "    </tr>\n",
              "    <tr>\n",
              "      <th>149763</th>\n",
              "      <td>Narmada Dahal</td>\n",
              "      <td>Sameep Shrestha</td>\n",
              "      <td>Oxygen cylinder le ama lai tyo ausi ko raat ch...</td>\n",
              "      <td>1.621313e+12</td>\n",
              "    </tr>\n",
              "    <tr>\n",
              "      <th>149764</th>\n",
              "      <td>Narmada Dahal</td>\n",
              "      <td>Sameep Shrestha</td>\n",
              "      <td>Tara 24hr duty le last garho oaryo</td>\n",
              "      <td>1.621313e+12</td>\n",
              "    </tr>\n",
              "    <tr>\n",
              "      <th>149765</th>\n",
              "      <td>Narmada Dahal</td>\n",
              "      <td>Sameep Shrestha</td>\n",
              "      <td>Buda budi ekchin mai pipe fyalne naak bata</td>\n",
              "      <td>1.621313e+12</td>\n",
              "    </tr>\n",
              "    <tr>\n",
              "      <th>149766</th>\n",
              "      <td>Narmada Dahal</td>\n",
              "      <td>Sameep Shrestha</td>\n",
              "      <td>Tharkayera hos dhamkyayera fakayera launa parne</td>\n",
              "      <td>1.621313e+12</td>\n",
              "    </tr>\n",
              "    <tr>\n",
              "      <th>149767</th>\n",
              "      <td>Narmada Dahal</td>\n",
              "      <td>Sameep Shrestha</td>\n",
              "      <td>Ama lai ni anxiety vayo hola tyo sadma le</td>\n",
              "      <td>1.621313e+12</td>\n",
              "    </tr>\n",
              "    <tr>\n",
              "      <th>149768</th>\n",
              "      <td>Narmada Dahal</td>\n",
              "      <td>Sameep Shrestha</td>\n",
              "      <td>5-6 Din baseko yar 24 hr</td>\n",
              "      <td>1.621313e+12</td>\n",
              "    </tr>\n",
              "    <tr>\n",
              "      <th>149769</th>\n",
              "      <td>Narmada Dahal</td>\n",
              "      <td>Sameep Shrestha</td>\n",
              "      <td>Afu nai recover vayeko thiyena</td>\n",
              "      <td>1.621313e+12</td>\n",
              "    </tr>\n",
              "    <tr>\n",
              "      <th>149770</th>\n",
              "      <td>Sameep Shrestha</td>\n",
              "      <td>Narmada Dahal</td>\n",
              "      <td>kakaslai lageko</td>\n",
              "      <td>1.621313e+12</td>\n",
              "    </tr>\n",
              "    <tr>\n",
              "      <th>149771</th>\n",
              "      <td>Sameep Shrestha</td>\n",
              "      <td>Narmada Dahal</td>\n",
              "      <td>oxygen fill garera rakheko ho</td>\n",
              "      <td>1.621313e+12</td>\n",
              "    </tr>\n",
              "    <tr>\n",
              "      <th>149772</th>\n",
              "      <td>Narmada Dahal</td>\n",
              "      <td>Sameep Shrestha</td>\n",
              "      <td>Day 1 duita mini cylinder</td>\n",
              "      <td>1.621313e+12</td>\n",
              "    </tr>\n",
              "    <tr>\n",
              "      <th>149773</th>\n",
              "      <td>Narmada Dahal</td>\n",
              "      <td>Sameep Shrestha</td>\n",
              "      <td>Tespachi generator</td>\n",
              "      <td>1.621313e+12</td>\n",
              "    </tr>\n",
              "    <tr>\n",
              "      <th>149774</th>\n",
              "      <td>Narmada Dahal</td>\n",
              "      <td>Sameep Shrestha</td>\n",
              "      <td>Ka balaju ma etro linee thiyo re</td>\n",
              "      <td>1.621313e+12</td>\n",
              "    </tr>\n",
              "    <tr>\n",
              "      <th>149775</th>\n",
              "      <td>Narmada Dahal</td>\n",
              "      <td>Sameep Shrestha</td>\n",
              "      <td>La ma khana gayeki</td>\n",
              "      <td>1.621313e+12</td>\n",
              "    </tr>\n",
              "    <tr>\n",
              "      <th>149776</th>\n",
              "      <td>Sameep Shrestha</td>\n",
              "      <td>Narmada Dahal</td>\n",
              "      <td>ma khadaixu haha la tata</td>\n",
              "      <td>1.621313e+12</td>\n",
              "    </tr>\n",
              "  </tbody>\n",
              "</table>\n",
              "</div>"
            ],
            "text/plain": [
              "                   From  ...  timestamp_ms\n",
              "149757    Narmada Dahal  ...  1.621313e+12\n",
              "149758  Sameep Shrestha  ...  1.621313e+12\n",
              "149759    Narmada Dahal  ...  1.621313e+12\n",
              "149760  Sameep Shrestha  ...  1.621313e+12\n",
              "149761  Sameep Shrestha  ...  1.621313e+12\n",
              "149762    Narmada Dahal  ...  1.621313e+12\n",
              "149763    Narmada Dahal  ...  1.621313e+12\n",
              "149764    Narmada Dahal  ...  1.621313e+12\n",
              "149765    Narmada Dahal  ...  1.621313e+12\n",
              "149766    Narmada Dahal  ...  1.621313e+12\n",
              "149767    Narmada Dahal  ...  1.621313e+12\n",
              "149768    Narmada Dahal  ...  1.621313e+12\n",
              "149769    Narmada Dahal  ...  1.621313e+12\n",
              "149770  Sameep Shrestha  ...  1.621313e+12\n",
              "149771  Sameep Shrestha  ...  1.621313e+12\n",
              "149772    Narmada Dahal  ...  1.621313e+12\n",
              "149773    Narmada Dahal  ...  1.621313e+12\n",
              "149774    Narmada Dahal  ...  1.621313e+12\n",
              "149775    Narmada Dahal  ...  1.621313e+12\n",
              "149776  Sameep Shrestha  ...  1.621313e+12\n",
              "\n",
              "[20 rows x 4 columns]"
            ]
          },
          "metadata": {
            "tags": []
          },
          "execution_count": 4
        }
      ]
    },
    {
      "cell_type": "code",
      "metadata": {
        "id": "Oe-OqziAbq6Y"
      },
      "source": [
        "def combined_dataset (data):\n",
        "    result = data['From'][0]\n",
        "    result2 = data['to'][0]\n",
        "    result3 = data['Message'][0]\n",
        "    print(result)\n",
        "    new = []\n",
        "    for fro,to,messa,time in zip(data['From'][1:],data['to'][1:],data['Message'][1:],data['timestamp_ms'][1:]):\n",
        "        if (result==fro and result2 == to) :\n",
        "            result3 = result3 + ' ' +messa\n",
        "        else:\n",
        "            new.append([result,result2,result3,time])\n",
        "            print(result3)\n",
        "            result = fro\n",
        "            result2 = to \n",
        "            result3 = messa\n",
        "    return new"
      ],
      "execution_count": 5,
      "outputs": []
    },
    {
      "cell_type": "code",
      "metadata": {
        "id": "v1eJgErUjyef"
      },
      "source": [
        "\n",
        "data =combined_dataset(dataset)\n"
      ],
      "execution_count": null,
      "outputs": []
    },
    {
      "cell_type": "code",
      "metadata": {
        "id": "n0nUnFIcDN_p",
        "colab": {
          "base_uri": "https://localhost:8080/",
          "height": 667
        },
        "outputId": "74977da1-b04c-4a27-fe23-fa6f3d8740f8"
      },
      "source": [
        "clen_arranged_data = pd.DataFrame(data,columns=['From','to','Message','timestamp_ms'])\n",
        "clen_arranged_data.tail(20)"
      ],
      "execution_count": 8,
      "outputs": [
        {
          "output_type": "execute_result",
          "data": {
            "text/html": [
              "<div>\n",
              "<style scoped>\n",
              "    .dataframe tbody tr th:only-of-type {\n",
              "        vertical-align: middle;\n",
              "    }\n",
              "\n",
              "    .dataframe tbody tr th {\n",
              "        vertical-align: top;\n",
              "    }\n",
              "\n",
              "    .dataframe thead th {\n",
              "        text-align: right;\n",
              "    }\n",
              "</style>\n",
              "<table border=\"1\" class=\"dataframe\">\n",
              "  <thead>\n",
              "    <tr style=\"text-align: right;\">\n",
              "      <th></th>\n",
              "      <th>From</th>\n",
              "      <th>to</th>\n",
              "      <th>Message</th>\n",
              "      <th>timestamp_ms</th>\n",
              "    </tr>\n",
              "  </thead>\n",
              "  <tbody>\n",
              "    <tr>\n",
              "      <th>94236</th>\n",
              "      <td>Sameep Shrestha</td>\n",
              "      <td>Narmada Dahal</td>\n",
              "      <td>haina k vanxa warranty pauxa ni tah 3 barsama ...</td>\n",
              "      <td>1.621313e+12</td>\n",
              "    </tr>\n",
              "    <tr>\n",
              "      <th>94237</th>\n",
              "      <td>Narmada Dahal</td>\n",
              "      <td>Sameep Shrestha</td>\n",
              "      <td>Six minths ni lagdaina Kk huna lai</td>\n",
              "      <td>1.621313e+12</td>\n",
              "    </tr>\n",
              "    <tr>\n",
              "      <th>94238</th>\n",
              "      <td>Sameep Shrestha</td>\n",
              "      <td>Narmada Dahal</td>\n",
              "      <td>haha probability tah badxa ni continuos ko ran...</td>\n",
              "      <td>1.621313e+12</td>\n",
              "    </tr>\n",
              "    <tr>\n",
              "      <th>94239</th>\n",
              "      <td>Narmada Dahal</td>\n",
              "      <td>Sameep Shrestha</td>\n",
              "      <td>Mahamari ko bela garna hunna</td>\n",
              "      <td>1.621313e+12</td>\n",
              "    </tr>\n",
              "    <tr>\n",
              "      <th>94240</th>\n",
              "      <td>Sameep Shrestha</td>\n",
              "      <td>Narmada Dahal</td>\n",
              "      <td>j hoss jana khojiraxa tara</td>\n",
              "      <td>1.621313e+12</td>\n",
              "    </tr>\n",
              "    <tr>\n",
              "      <th>94241</th>\n",
              "      <td>Narmada Dahal</td>\n",
              "      <td>Sameep Shrestha</td>\n",
              "      <td>Afu nai aja ho ki voli ho huncha</td>\n",
              "      <td>1.621313e+12</td>\n",
              "    </tr>\n",
              "    <tr>\n",
              "      <th>94242</th>\n",
              "      <td>Sameep Shrestha</td>\n",
              "      <td>Narmada Dahal</td>\n",
              "      <td>ah tyo chai ho aile chai mah afu last lucky la...</td>\n",
              "      <td>1.621313e+12</td>\n",
              "    </tr>\n",
              "    <tr>\n",
              "      <th>94243</th>\n",
              "      <td>Narmada Dahal</td>\n",
              "      <td>Sameep Shrestha</td>\n",
              "      <td>I was thinking the same. Ani neoal ma nai tei ...</td>\n",
              "      <td>1.621313e+12</td>\n",
              "    </tr>\n",
              "    <tr>\n",
              "      <th>94244</th>\n",
              "      <td>Sameep Shrestha</td>\n",
              "      <td>Narmada Dahal</td>\n",
              "      <td>ani palestine ko herxu</td>\n",
              "      <td>1.621313e+12</td>\n",
              "    </tr>\n",
              "    <tr>\n",
              "      <th>94245</th>\n",
              "      <td>Narmada Dahal</td>\n",
              "      <td>Sameep Shrestha</td>\n",
              "      <td>K cha tya</td>\n",
              "      <td>1.621313e+12</td>\n",
              "    </tr>\n",
              "    <tr>\n",
              "      <th>94246</th>\n",
              "      <td>Sameep Shrestha</td>\n",
              "      <td>Narmada Dahal</td>\n",
              "      <td>afnai ghar bata khedairaxan</td>\n",
              "      <td>1.621313e+12</td>\n",
              "    </tr>\n",
              "    <tr>\n",
              "      <th>94247</th>\n",
              "      <td>Narmada Dahal</td>\n",
              "      <td>Sameep Shrestha</td>\n",
              "      <td>Kasle</td>\n",
              "      <td>1.621313e+12</td>\n",
              "    </tr>\n",
              "    <tr>\n",
              "      <th>94248</th>\n",
              "      <td>Sameep Shrestha</td>\n",
              "      <td>Narmada Dahal</td>\n",
              "      <td>tyai pani supreme courtla pass gardera israel ...</td>\n",
              "      <td>1.621313e+12</td>\n",
              "    </tr>\n",
              "    <tr>\n",
              "      <th>94249</th>\n",
              "      <td>Narmada Dahal</td>\n",
              "      <td>Sameep Shrestha</td>\n",
              "      <td>Myan yo fb ma ambukance kk nunber rakherw naut...</td>\n",
              "      <td>1.621313e+12</td>\n",
              "    </tr>\n",
              "    <tr>\n",
              "      <th>94250</th>\n",
              "      <td>Sameep Shrestha</td>\n",
              "      <td>Narmada Dahal</td>\n",
              "      <td>ah tyo chai lastai ajha sunana</td>\n",
              "      <td>1.621313e+12</td>\n",
              "    </tr>\n",
              "    <tr>\n",
              "      <th>94251</th>\n",
              "      <td>Narmada Dahal</td>\n",
              "      <td>Sameep Shrestha</td>\n",
              "      <td>Tapai jun thau ma hoisincha tei thau najik ko ...</td>\n",
              "      <td>1.621313e+12</td>\n",
              "    </tr>\n",
              "    <tr>\n",
              "      <th>94252</th>\n",
              "      <td>Sameep Shrestha</td>\n",
              "      <td>Narmada Dahal</td>\n",
              "      <td>hsptlma navako yo celebrity sanga oxygen tanke...</td>\n",
              "      <td>1.621313e+12</td>\n",
              "    </tr>\n",
              "    <tr>\n",
              "      <th>94253</th>\n",
              "      <td>Narmada Dahal</td>\n",
              "      <td>Sameep Shrestha</td>\n",
              "      <td>Hamri ma nai chað¤£ Oxygen cylinder le ama la...</td>\n",
              "      <td>1.621313e+12</td>\n",
              "    </tr>\n",
              "    <tr>\n",
              "      <th>94254</th>\n",
              "      <td>Sameep Shrestha</td>\n",
              "      <td>Narmada Dahal</td>\n",
              "      <td>kakaslai lageko oxygen fill garera rakheko ho</td>\n",
              "      <td>1.621313e+12</td>\n",
              "    </tr>\n",
              "    <tr>\n",
              "      <th>94255</th>\n",
              "      <td>Narmada Dahal</td>\n",
              "      <td>Sameep Shrestha</td>\n",
              "      <td>Day 1 duita mini cylinder Tespachi generator K...</td>\n",
              "      <td>1.621313e+12</td>\n",
              "    </tr>\n",
              "  </tbody>\n",
              "</table>\n",
              "</div>"
            ],
            "text/plain": [
              "                  From  ...  timestamp_ms\n",
              "94236  Sameep Shrestha  ...  1.621313e+12\n",
              "94237    Narmada Dahal  ...  1.621313e+12\n",
              "94238  Sameep Shrestha  ...  1.621313e+12\n",
              "94239    Narmada Dahal  ...  1.621313e+12\n",
              "94240  Sameep Shrestha  ...  1.621313e+12\n",
              "94241    Narmada Dahal  ...  1.621313e+12\n",
              "94242  Sameep Shrestha  ...  1.621313e+12\n",
              "94243    Narmada Dahal  ...  1.621313e+12\n",
              "94244  Sameep Shrestha  ...  1.621313e+12\n",
              "94245    Narmada Dahal  ...  1.621313e+12\n",
              "94246  Sameep Shrestha  ...  1.621313e+12\n",
              "94247    Narmada Dahal  ...  1.621313e+12\n",
              "94248  Sameep Shrestha  ...  1.621313e+12\n",
              "94249    Narmada Dahal  ...  1.621313e+12\n",
              "94250  Sameep Shrestha  ...  1.621313e+12\n",
              "94251    Narmada Dahal  ...  1.621313e+12\n",
              "94252  Sameep Shrestha  ...  1.621313e+12\n",
              "94253    Narmada Dahal  ...  1.621313e+12\n",
              "94254  Sameep Shrestha  ...  1.621313e+12\n",
              "94255    Narmada Dahal  ...  1.621313e+12\n",
              "\n",
              "[20 rows x 4 columns]"
            ]
          },
          "metadata": {
            "tags": []
          },
          "execution_count": 8
        }
      ]
    },
    {
      "cell_type": "code",
      "metadata": {
        "id": "yduDeda9gAdc"
      },
      "source": [
        "clen_arranged_data.to_csv (r'/content/drive/MyDrive/chat bots/simultaneous.csv', index = False, header=True)"
      ],
      "execution_count": 9,
      "outputs": []
    },
    {
      "cell_type": "code",
      "metadata": {
        "id": "MA4sCt6Xo63k"
      },
      "source": [
        ""
      ],
      "execution_count": null,
      "outputs": []
    }
  ]
}